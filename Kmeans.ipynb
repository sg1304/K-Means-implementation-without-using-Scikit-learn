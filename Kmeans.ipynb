{
 "cells": [
  {
   "cell_type": "code",
   "execution_count": 1,
   "metadata": {},
   "outputs": [],
   "source": [
    "import numpy as np\n",
    "import matplotlib.pyplot as plt, mpld3\n",
    "from matplotlib import style\n",
    "import pandas as pd \n",
    "import math"
   ]
  },
  {
   "cell_type": "code",
   "execution_count": 2,
   "metadata": {},
   "outputs": [],
   "source": [
    "df=pd.read_csv('wdbc_data.csv',header=None)\n",
    "X=df.loc[:,2:32].values"
   ]
  },
  {
   "cell_type": "code",
   "execution_count": 3,
   "metadata": {},
   "outputs": [],
   "source": [
    "for feature_name in df.loc[:,2:32].columns:\n",
    "    max_value = df[feature_name].max()\n",
    "    min_value = df[feature_name].min()\n",
    "    df[feature_name] = (df[feature_name] - min_value) / (max_value - min_value)"
   ]
  },
  {
   "cell_type": "code",
   "execution_count": 4,
   "metadata": {},
   "outputs": [
    {
     "data": {
      "text/plain": [
       "(569, 30)"
      ]
     },
     "execution_count": 4,
     "metadata": {},
     "output_type": "execute_result"
    }
   ],
   "source": [
    "X=df.loc[:,2:32].values\n",
    "cat=df[1]\n",
    "X.shape"
   ]
  },
  {
   "cell_type": "code",
   "execution_count": 5,
   "metadata": {},
   "outputs": [],
   "source": [
    "def kmeans(k, dm, X):\n",
    "    \n",
    "    print(f\"purity, average distance, max distance to centroids and max distance between 2 feature vectors with L{dm} and k = {k}\")\n",
    "    centroids = {}\n",
    "    for i in range(k):\n",
    "        centroids[i] = X[i]\n",
    "    while True:\n",
    "        classes = {}\n",
    "        prediction = []\n",
    "        for j in range(k):\n",
    "            classes[j] = []\n",
    "        for row in range(0, len(X)):\n",
    "            min_dist = math.inf\n",
    "            c_index = math.inf\n",
    "            for centroid in range(len(centroids)):\n",
    "                sum = 0\n",
    "                for col in range(0, 30):\n",
    "                    diff = abs(X[row][col] -  centroids[centroid][col])\n",
    "                    sum = sum + diff ** dm\n",
    "                dist = sum ** (1/dm)\n",
    "                if dist < min_dist:\n",
    "                    min_dist = dist\n",
    "                    c_index = centroid\n",
    "            classes[c_index].append(X[row])\n",
    "            prediction.append(c_index)\n",
    "            \n",
    "            \n",
    "        previous = dict(centroids)\n",
    "        \n",
    "        for classification in classes:\n",
    "            centroids[classification] = np.mean(classes[classification], axis = 0)\n",
    "            \n",
    "        isOptimal = True\n",
    "        \n",
    "        for centroid in range(0, len(centroids)):\n",
    "            original_centroid = previous[centroid]\n",
    "            curr = centroids[centroid]\n",
    "\n",
    "            if np.array_equal(original_centroid, curr) == False:\n",
    "                isOptimal = False\n",
    "                \n",
    "        if isOptimal:\n",
    "            classes_global = classes\n",
    "            break\n",
    "    purity=[]    \n",
    "    for centroid in range(k):\n",
    "       \n",
    "        m = 0\n",
    "        b = 0\n",
    "        for index in range(0, len(prediction)):\n",
    "            if prediction[index] == centroid and cat[index] == 'B':\n",
    "                b = b + 1\n",
    "            if prediction[index] == centroid and cat[index] == 'M':\n",
    "                m = m + 1\n",
    "                \n",
    "        pure= max(m,b)/ (m+b)\n",
    "        purity.append(pure)\n",
    "         \n",
    "    dist_avg=[]\n",
    "    distances=[]\n",
    "    dist_max=[]\n",
    "    for k in range(0,k):\n",
    "        avg_dist=0\n",
    "        max_dist=0\n",
    "        for index in range(0, len(prediction)):\n",
    "            if prediction[index] == k:\n",
    "                sum = 0\n",
    "                for col in range(0, 30):\n",
    "                    diff = abs(X[index][col] -  centroids[k][col])\n",
    "                    sum = sum + diff ** dm\n",
    "                dist2 = sum ** (1/dm)\n",
    "                distances.append(dist2)\n",
    "        dist_avg.append(np.average(distances))\n",
    "        dist_max.append(np.max(distances))\n",
    "    \n",
    "\n",
    "    max_dis = []\n",
    "    for a in range(0,k):\n",
    "        max_dist=0\n",
    "        for index in range(len(prediction)):\n",
    "            for ind in range(len(prediction)):\n",
    "                if prediction[index] == a and prediction[ind] == a:\n",
    "                    sum = 0\n",
    "                    for col in range(0, 30):\n",
    "                        diff = abs(X[index][col] -  X[ind][col])\n",
    "                        sum = sum + diff ** dm\n",
    "                        dist3 = sum ** (1/dm)\n",
    "                        if dist3 > max_dist:\n",
    "                            max_dist = dist3\n",
    "        max_dis.append(max_dist)\n",
    "    return purity,dist_avg,dist_max,max_dis  "
   ]
  },
  {
   "cell_type": "code",
   "execution_count": 6,
   "metadata": {
    "scrolled": true
   },
   "outputs": [
    {
     "name": "stdout",
     "output_type": "stream",
     "text": [
      "purity, average distance, max distance to centroids and max distance between 2 feature vectors with L1 and k = 2\n"
     ]
    },
    {
     "data": {
      "text/plain": [
       "([0.9827586206896551, 0.8962025316455696],\n",
       " [3.068791559290859, 2.4211762105376637],\n",
       " [8.698698666848118, 8.698698666848118],\n",
       " [14.244461694960922])"
      ]
     },
     "execution_count": 6,
     "metadata": {},
     "output_type": "execute_result"
    }
   ],
   "source": [
    "kmeans(2,1,X)"
   ]
  },
  {
   "cell_type": "code",
   "execution_count": 7,
   "metadata": {},
   "outputs": [
    {
     "name": "stdout",
     "output_type": "stream",
     "text": [
      "purity, average distance, max distance to centroids and max distance between 2 feature vectors with L2 and k = 2\n"
     ]
    },
    {
     "data": {
      "text/plain": [
       "([0.9523809523809523, 0.9157894736842105],\n",
       " [0.7024990771498245, 0.5594128000997106],\n",
       " [2.034382770806892, 2.034382770806892],\n",
       " [3.1377420386244155])"
      ]
     },
     "execution_count": 7,
     "metadata": {},
     "output_type": "execute_result"
    }
   ],
   "source": [
    "kmeans(2,2,X)"
   ]
  },
  {
   "cell_type": "code",
   "execution_count": 8,
   "metadata": {},
   "outputs": [
    {
     "name": "stdout",
     "output_type": "stream",
     "text": [
      "purity, average distance, max distance to centroids and max distance between 2 feature vectors with L1 and k = 3\n"
     ]
    },
    {
     "data": {
      "text/plain": [
       "([0.918918918918919, 0.93048128342246, 0.9620253164556962],\n",
       " [3.875279432687562, 2.2266602794580534, 2.3146874907704693],\n",
       " [8.020198290493855, 8.020198290493855, 8.293228294563761],\n",
       " [14.244461694960922, 8.957694141301694])"
      ]
     },
     "execution_count": 8,
     "metadata": {},
     "output_type": "execute_result"
    }
   ],
   "source": [
    "kmeans(3,1,X)"
   ]
  },
  {
   "cell_type": "code",
   "execution_count": null,
   "metadata": {},
   "outputs": [
    {
     "name": "stdout",
     "output_type": "stream",
     "text": [
      "purity, average distance, max distance to centroids and max distance between 2 feature vectors with L2 and k = 3\n"
     ]
    }
   ],
   "source": [
    "kmeans(3,2,X)"
   ]
  },
  {
   "cell_type": "code",
   "execution_count": null,
   "metadata": {},
   "outputs": [],
   "source": [
    "kmeans(4,1,X)"
   ]
  },
  {
   "cell_type": "code",
   "execution_count": 340,
   "metadata": {},
   "outputs": [
    {
     "name": "stdout",
     "output_type": "stream",
     "text": [
      "purity, average distance, max distance to centroids and max distance between 2 feature vectors with L2 and k = 4\n"
     ]
    },
    {
     "data": {
      "text/plain": [
       "([1.0, 0.9405099150141643, 1.0, 0.6951219512195121],\n",
       " [0.7140232013167087,\n",
       "  0.4872262150394441,\n",
       "  0.48761298789138896,\n",
       "  0.5071185970475394],\n",
       " [1.6435738142241292,\n",
       "  1.6435738142241292,\n",
       "  1.6435738142241292,\n",
       "  1.787389486980726],\n",
       " [2.242970349145292,\n",
       "  1.8511590743415496,\n",
       "  1.7968985335677565,\n",
       "  2.299806124842556])"
      ]
     },
     "execution_count": 340,
     "metadata": {},
     "output_type": "execute_result"
    }
   ],
   "source": [
    "kmeans(4,2,X)"
   ]
  },
  {
   "cell_type": "markdown",
   "metadata": {},
   "source": [
    "# Conclusions on Purity "
   ]
  },
  {
   "cell_type": "markdown",
   "metadata": {},
   "source": [
    "L2 distance seems to be performing better than L1 measure as the cumulative purity of all clusters is high for same value of K=2 and K=3. For K=4, there is not much to separate between L1 and L2 as the purity is 100% for 2 clusters and the difference in purity is cancelled out in the other two remaining clusters. The highest purity is achieved for K=3 using the L2 distance measure"
   ]
  },
  {
   "cell_type": "code",
   "execution_count": null,
   "metadata": {},
   "outputs": [],
   "source": []
  }
 ],
 "metadata": {
  "kernelspec": {
   "display_name": "Python 3",
   "language": "python",
   "name": "python3"
  },
  "language_info": {
   "codemirror_mode": {
    "name": "ipython",
    "version": 3
   },
   "file_extension": ".py",
   "mimetype": "text/x-python",
   "name": "python",
   "nbconvert_exporter": "python",
   "pygments_lexer": "ipython3",
   "version": "3.6.5"
  }
 },
 "nbformat": 4,
 "nbformat_minor": 2
}
